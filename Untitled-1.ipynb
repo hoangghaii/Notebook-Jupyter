{
 "cells": [
  {
   "cell_type": "code",
   "execution_count": null,
   "metadata": {
    "vscode": {
     "languageId": "javascript"
    }
   },
   "outputs": [],
   "source": [
    "%%script node\n",
    "\n",
    "const longString = \"This is a very long string which needs to be split into multiple lines.\"\n",
    "\n",
    "// slice(start, end)\n",
    "const stringSlice = longString.slice(2, 8) // => \"is is \"\n",
    "console.log('stringSlice:'+stringSlice+';')\n",
    "const stringSlice2 = longString.slice(2, -8) // => \"is is a very long string which needs to be split into multipl\"\n",
    "console.log('stringSlice2:'+stringSlice2+';')\n",
    "\n",
    "// substring(start, end)\n",
    "const stringSubString = longString.substring(2, 8) // => \"is is \"\n",
    "console.log('stringSubString:'+stringSubString+';')\n",
    "\n",
    "const stringSubString2 = longString.substring(8, -2)\n",
    "/**\n",
    " * khong the nhan doi so am\n",
    " * -2 => 0\n",
    " * => longString.substring(8, 0)\n",
    " * stringSubString2 = longString.substring(8, 0) = \"This is \"\n",
    " */\n",
    "console.log('stringSubString2:'+stringSubString2+';')\n",
    "\n",
    "// substr(start, length)\n",
    "const stringSubStr = longString.substr(2, 8) // => \"is is a \"\n",
    "console.log('stringSubStr:'+stringSubStr+';')\n",
    "\n",
    "const stringSubStr2 = longString.substr(8, -2)\n",
    "/**\n",
    " * khong the nhan doi so am\n",
    " * => \"\"\n",
    " */\n",
    "console.log('stringSubStr2:'+stringSubStr2+';')\n",
    "\n",
    "const stringSubStr3 = longString.substr(8)\n",
    "/**\n",
    " * khong co doi so thu 2\n",
    " * lay het chuoi tu vi tri thu 8\n",
    " * => \"a very long string which needs to be split into multiple lines.\"\n",
    " */\n",
    "console.log('stringSubStr3:'+stringSubStr3+';')"
   ]
  },
  {
   "cell_type": "code",
   "execution_count": null,
   "metadata": {
    "vscode": {
     "languageId": "javascript"
    }
   },
   "outputs": [],
   "source": [
    "%%script node\n",
    "\n",
    "// for .. in\n",
    "// only for object\n",
    "const obj = {x: 5, y: 'abc', z: true}\n",
    "\n",
    "for (const key in obj) {\n",
    "  console.log(key + ': ' + obj[key])\n",
    "}"
   ]
  },
  {
   "cell_type": "code",
   "execution_count": null,
   "metadata": {
    "vscode": {
     "languageId": "javascript"
    }
   },
   "outputs": [],
   "source": [
    "%%script node\n",
    "\n",
    "// for .. of\n",
    "// for array, map, set, string, ...\n",
    "const elements = ['a', 'b', 5, 6]\n",
    "\n",
    "for (const value of elements) {\n",
    "  console.log(value)\n",
    "}\n",
    "\n",
    "console.log('------------------')\n",
    "\n",
    "\n",
    "const longString = \"This is a string\"\n",
    "for (const value of longString) {\n",
    "  console.log(value)\n",
    "}\n",
    "\n",
    "console.log('------------------')\n",
    "\n",
    "const map = new Map()\n",
    "map.set('x', 5)\n",
    "map.set({a:1}, {b:5})\n",
    "map.set([1,2,3], [4,5,6])\n",
    "map.set(5,'abc')\n",
    "\n",
    "for (const value of map) {\n",
    "  console.log(value)\n",
    "}\n",
    "\n",
    "console.log('------------------')\n",
    "\n",
    "const set = new Set()\n",
    "set.add(5)\n",
    "set.add('abc') \n",
    "set.add(true)\n",
    "set.add({'abc': 123})\n",
    "\n",
    "for (const value of set) {\n",
    "  console.log(value)\n",
    "} \n"
   ]
  },
  {
   "cell_type": "code",
   "execution_count": null,
   "metadata": {
    "vscode": {
     "languageId": "javascript"
    }
   },
   "outputs": [],
   "source": [
    "%%script node\n",
    "\n",
    "// The arguments object\n",
    "function add(a,b) {\n",
    "  if(arguments.length == 2){\n",
    "    return a+b;\n",
    "  }else {\n",
    "    let sum = 0\n",
    "    for (let i = 0; i < arguments.length; i++) {\n",
    "      const item = arguments[i];\n",
    "      sum += item\n",
    "    }\n",
    "    return sum\n",
    "  }\n",
    "}\n",
    "\n",
    "console.log(add(1,2))\n",
    "console.log('------------------')\n",
    "console.log(add(1,2,3,4,5,6,7,8,9,10))"
   ]
  },
  {
   "cell_type": "code",
   "execution_count": null,
   "metadata": {
    "vscode": {
     "languageId": "javascript"
    }
   },
   "outputs": [],
   "source": [
    "%%script node\n",
    "\n",
    "const obj = {\n",
    "  title: \"This is title\",\n",
    "  logTheTitle: function() {\n",
    "    return this.title + ' is the title'\n",
    "  },\n",
    "  logTheTitleWithArg: function(arg) {\n",
    "    return this.title + ' is the title ' + arg\n",
    "  }\n",
    "}\n",
    "\n",
    "const obj2 = obj.logTheTitle()\n",
    "console.log(obj2)\n",
    "\n",
    "const obj8 = obj.logTheTitleWithArg('abc')\n",
    "console.log(obj8)\n",
    "\n",
    "const obj3 = {\n",
    "  title: \"This is title 2222\" ,\n",
    "}\n",
    "\n",
    "const obj4 = obj.logTheTitle.call(obj3)\n",
    "console.log(obj4)\n",
    "\n",
    "const obj5 = obj.logTheTitle.apply(obj3)\n",
    "console.log(obj5)\n",
    "\n",
    "const obj6 = obj.logTheTitleWithArg.call(obj3, 'abc')\n",
    "console.log(obj6)\n",
    "\n",
    "const obj7 = obj.logTheTitleWithArg.apply(obj3, ['abc'])\n",
    "console.log(obj7)"
   ]
  },
  {
   "cell_type": "code",
   "execution_count": null,
   "metadata": {
    "vscode": {
     "languageId": "javascript"
    }
   },
   "outputs": [],
   "source": [
    "const promise = new Promise(function (resolve, reject) {\n",
    "  // do something async\n",
    "\n",
    "  if(/* successfull */){\n",
    "    resolve('successfull')\n",
    "  }\n",
    "  else {\n",
    "    reject('error')\n",
    "  }\n",
    "})\n",
    "\n",
    "promise\n",
    "  .then(function (result) {\n",
    "    // do something with result\n",
    "  })\n",
    "  .catch(function (error) {\n",
    "    // do something with error\n",
    "  })\n",
    "  .finally(function () {\n",
    "    // do something finally\n",
    "    // this block is optional\n",
    "  })"
   ]
  },
  {
   "cell_type": "code",
   "execution_count": null,
   "metadata": {
    "vscode": {
     "languageId": "javascript"
    }
   },
   "outputs": [],
   "source": [
    "%%script node\n",
    "\n",
    "const obj = {\n",
    "  title: \"This is title\",\n",
    "  content: \"This is content\",\n",
    "\n",
    "  get titlee(){\n",
    "    return this.title\n",
    "  },\n",
    "  set titlee(newTitle){\n",
    "    this.title = newTitle\n",
    "  },\n",
    "  get contentt(){\n",
    "    return this.content\n",
    "  },\n",
    "  set contentt(newContent){\n",
    "    this.content = newContent\n",
    "  },\n",
    "  get titleAndContent() {\n",
    "    return this.title + ' ' + this.content\n",
    "  },\n",
    "  set titleAndContent(newTitleAndContent) {\n",
    "    const arr = newTitleAndContent.split(' ')\n",
    "    this.title = arr[0]\n",
    "    this.content = arr[1]\n",
    "  }\n",
    "}\n",
    "\n",
    "const objTitle = obj.titlee\n",
    "console.log(objTitle)\n",
    "\n",
    "\n",
    "const objContent = obj.contentt\n",
    "console.log(objContent)\n",
    "\n",
    "\n",
    "const objTitleAndContent = obj.titleAndContent\n",
    "console.log(objTitleAndContent)\n",
    "\n",
    "obj.titlee = 'title2'\n",
    "console.log(obj.titlee)\n",
    "\n",
    "obj.contentt = 'content2'\n",
    "console.log(obj.contentt)\n",
    "\n",
    "console.log(obj.titleAndContent)\n",
    "\n",
    "obj.titleAndContent = 'title content'\n",
    "console.log(obj.titleAndContent)\n"
   ]
  },
  {
   "cell_type": "code",
   "execution_count": null,
   "metadata": {
    "vscode": {
     "languageId": "javascript"
    }
   },
   "outputs": [],
   "source": []
  }
 ],
 "metadata": {
  "kernelspec": {
   "display_name": "Python 3",
   "language": "python",
   "name": "python3"
  },
  "language_info": {
   "codemirror_mode": {
    "name": "ipython",
    "version": 3
   },
   "file_extension": ".py",
   "mimetype": "text/x-python",
   "name": "python",
   "nbconvert_exporter": "python",
   "pygments_lexer": "ipython3",
   "version": "3.10.5"
  },
  "orig_nbformat": 4
 },
 "nbformat": 4,
 "nbformat_minor": 2
}
