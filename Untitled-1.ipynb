{
 "cells": [
  {
   "cell_type": "code",
   "execution_count": 13,
   "metadata": {
    "vscode": {
     "languageId": "javascript"
    }
   },
   "outputs": [
    {
     "data": {
      "application/javascript": "\nconst longString = \"This is a very long string which needs, to be split into multiple lines.\"\n\n// slice(start, end)\nconst stringSlice = longString.slice(2, 8) // => \"is is \"\nconsole.log('stringSlice:'+stringSlice+';')\nconst stringSlice2 = longString.slice(2, -8) // => \"is is a very long string which needs, to be split into multipl\"\nconsole.log('stringSlice2:'+stringSlice2+';')\n\n// substring(start, end)\nconst stringSubString = longString.substring(2, 8) // => \"is is \"\nconsole.log('stringSubString:'+stringSubString+';')\n\nconst stringSubString2 = longString.substring(8, -2)\n/**\n * khong the nhan doi so am\n * -2 => 0\n * => longString.substring(8, 0)\n * stringSubString2 = longString.substring(8, 0) = \"This is \"\n */\nconsole.log('stringSubString2:'+stringSubString2+';')\n\n// substr(start, length)\nconst stringSubStr = longString.substr(2, 8) // => \"is is a \"\nconsole.log('stringSubStr:'+stringSubStr+';')\n\nconst stringSubStr2 = longString.substr(8, -2)\n/**\n * khong the nhan doi so am\n * => \"\"\n */\nconsole.log('stringSubStr2:'+stringSubStr2+';')\n\nconst stringSubStr3 = longString.substr(8)\n/**\n * khong co doi so thu 2\n * lay het chuoi tu vi tri thu 8\n * => \"a very long string which needs, to be split into multiple lines.\"\n */\nconsole.log('stringSubStr3:'+stringSubStr3+';')\n",
      "text/plain": [
       "<IPython.core.display.Javascript object>"
      ]
     },
     "metadata": {},
     "output_type": "display_data"
    }
   ],
   "source": [
    "%%javascript\n",
    "\n",
    "const longString = \"This is a very long string which needs to be split into multiple lines.\"\n",
    "\n",
    "// slice(start, end)\n",
    "const stringSlice = longString.slice(2, 8) // => \"is is \"\n",
    "console.log('stringSlice:'+stringSlice+';')\n",
    "const stringSlice2 = longString.slice(2, -8) // => \"is is a very long string which needs to be split into multipl\"\n",
    "console.log('stringSlice2:'+stringSlice2+';')\n",
    "\n",
    "// substring(start, end)\n",
    "const stringSubString = longString.substring(2, 8) // => \"is is \"\n",
    "console.log('stringSubString:'+stringSubString+';')\n",
    "\n",
    "const stringSubString2 = longString.substring(8, -2)\n",
    "/**\n",
    " * khong the nhan doi so am\n",
    " * -2 => 0\n",
    " * => longString.substring(8, 0)\n",
    " * stringSubString2 = longString.substring(8, 0) = \"This is \"\n",
    " */\n",
    "console.log('stringSubString2:'+stringSubString2+';')\n",
    "\n",
    "// substr(start, length)\n",
    "const stringSubStr = longString.substr(2, 8) // => \"is is a \"\n",
    "console.log('stringSubStr:'+stringSubStr+';')\n",
    "\n",
    "const stringSubStr2 = longString.substr(8, -2)\n",
    "/**\n",
    " * khong the nhan doi so am\n",
    " * => \"\"\n",
    " */\n",
    "console.log('stringSubStr2:'+stringSubStr2+';')\n",
    "\n",
    "const stringSubStr3 = longString.substr(8)\n",
    "/**\n",
    " * khong co doi so thu 2\n",
    " * lay het chuoi tu vi tri thu 8\n",
    " * => \"a very long string which needs to be split into multiple lines.\"\n",
    " */\n",
    "console.log('stringSubStr3:'+stringSubStr3+';')"
   ]
  }
 ],
 "metadata": {
  "kernelspec": {
   "display_name": "Python 3",
   "language": "python",
   "name": "python3"
  },
  "language_info": {
   "codemirror_mode": {
    "name": "ipython",
    "version": 3
   },
   "file_extension": ".py",
   "mimetype": "text/x-python",
   "name": "python",
   "nbconvert_exporter": "python",
   "pygments_lexer": "ipython3",
   "version": "3.9.0"
  },
  "orig_nbformat": 4
 },
 "nbformat": 4,
 "nbformat_minor": 2
}
