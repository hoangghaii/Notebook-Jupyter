{
 "cells": [
  {
   "cell_type": "code",
   "execution_count": null,
   "metadata": {
    "vscode": {
     "languageId": "javascript"
    }
   },
   "outputs": [],
   "source": [
    "%%script node\n",
    "\n",
    "const longString = \"This is a very long string which needs to be split into multiple lines.\"\n",
    "\n",
    "// slice(start, end)\n",
    "const stringSlice = longString.slice(2, 8) // => \"is is \"\n",
    "console.log('stringSlice:'+stringSlice+';')\n",
    "const stringSlice2 = longString.slice(2, -8) // => \"is is a very long string which needs to be split into multipl\"\n",
    "console.log('stringSlice2:'+stringSlice2+';')\n",
    "\n",
    "// substring(start, end)\n",
    "const stringSubString = longString.substring(2, 8) // => \"is is \"\n",
    "console.log('stringSubString:'+stringSubString+';')\n",
    "\n",
    "const stringSubString2 = longString.substring(8, -2)\n",
    "/**\n",
    " * khong the nhan doi so am\n",
    " * -2 => 0\n",
    " * => longString.substring(8, 0)\n",
    " * stringSubString2 = longString.substring(8, 0) = \"This is \"\n",
    " */\n",
    "console.log('stringSubString2:'+stringSubString2+';')\n",
    "\n",
    "// substr(start, length)\n",
    "const stringSubStr = longString.substr(2, 8) // => \"is is a \"\n",
    "console.log('stringSubStr:'+stringSubStr+';')\n",
    "\n",
    "const stringSubStr2 = longString.substr(8, -2)\n",
    "/**\n",
    " * khong the nhan doi so am\n",
    " * => \"\"\n",
    " */\n",
    "console.log('stringSubStr2:'+stringSubStr2+';')\n",
    "\n",
    "const stringSubStr3 = longString.substr(8)\n",
    "/**\n",
    " * khong co doi so thu 2\n",
    " * lay het chuoi tu vi tri thu 8\n",
    " * => \"a very long string which needs to be split into multiple lines.\"\n",
    " */\n",
    "console.log('stringSubStr3:'+stringSubStr3+';')"
   ]
  },
  {
   "cell_type": "code",
   "execution_count": null,
   "metadata": {
    "vscode": {
     "languageId": "javascript"
    }
   },
   "outputs": [],
   "source": [
    "%%script node\n",
    "\n",
    "// for .. in\n",
    "// only for object\n",
    "const obj = {x: 5, y: 'abc', z: true}\n",
    "\n",
    "for (const key in obj) {\n",
    "  console.log(key + ': ' + obj[key])\n",
    "}"
   ]
  },
  {
   "cell_type": "code",
   "execution_count": null,
   "metadata": {
    "vscode": {
     "languageId": "javascript"
    }
   },
   "outputs": [],
   "source": [
    "%%script node\n",
    "\n",
    "// for .. of\n",
    "// for array, map, set, string, ...\n",
    "const elements = ['a', 'b', 5, 6]\n",
    "\n",
    "for (const value of elements) {\n",
    "  console.log(value)\n",
    "}\n",
    "\n",
    "console.log('------------------')\n",
    "\n",
    "\n",
    "const longString = \"This is a string\"\n",
    "for (const value of longString) {\n",
    "  console.log(value)\n",
    "}"
   ]
  },
  {
   "cell_type": "code",
   "execution_count": 28,
   "metadata": {
    "vscode": {
     "languageId": "javascript"
    }
   },
   "outputs": [
    {
     "name": "stdout",
     "output_type": "stream",
     "text": [
      "3\n",
      "------------------\n",
      "55\n"
     ]
    }
   ],
   "source": [
    "%%script node\n",
    "\n",
    "// The arguments object\n",
    "function add(a,b) {\n",
    "  if(arguments.length == 2){\n",
    "    return a+b;\n",
    "  }else {\n",
    "    let sum = 0\n",
    "    for (let i = 0; i < arguments.length; i++) {\n",
    "      const item = arguments[i];\n",
    "      sum += item\n",
    "    }\n",
    "    return sum\n",
    "  }\n",
    "}\n",
    "\n",
    "console.log(add(1,2))\n",
    "console.log('------------------')\n",
    "console.log(add(1,2,3,4,5,6,7,8,9,10))"
   ]
  },
  {
   "cell_type": "code",
   "execution_count": null,
   "metadata": {
    "vscode": {
     "languageId": "javascript"
    }
   },
   "outputs": [],
   "source": []
  }
 ],
 "metadata": {
  "kernelspec": {
   "display_name": "Python 3",
   "language": "python",
   "name": "python3"
  },
  "language_info": {
   "codemirror_mode": {
    "name": "ipython",
    "version": 3
   },
   "file_extension": ".py",
   "mimetype": "text/x-python",
   "name": "python",
   "nbconvert_exporter": "python",
   "pygments_lexer": "ipython3",
   "version": "3.9.0"
  },
  "orig_nbformat": 4
 },
 "nbformat": 4,
 "nbformat_minor": 2
}
